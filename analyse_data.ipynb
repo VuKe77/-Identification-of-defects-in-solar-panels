{
 "cells": [
  {
   "cell_type": "code",
   "execution_count": 1,
   "id": "94917888",
   "metadata": {},
   "outputs": [],
   "source": [
    "#Libraries\n",
    "import pandas as pd\n",
    "import matplotlib.pyplot as plt\n",
    "import numpy as np"
   ]
  },
  {
   "cell_type": "code",
   "execution_count": 3,
   "id": "56887e79",
   "metadata": {},
   "outputs": [
    {
     "data": {
      "application/vnd.microsoft.datawrangler.viewer.v0+json": {
       "columns": [
        {
         "name": "index",
         "rawType": "int64",
         "type": "integer"
        },
        {
         "name": "crack",
         "rawType": "int64",
         "type": "integer"
        },
        {
         "name": "inactive",
         "rawType": "int64",
         "type": "integer"
        }
       ],
       "ref": "69cdf72a-4caf-44e6-bfcd-e1d76934a376",
       "rows": [
        [
         "0",
         "1",
         "0"
        ],
        [
         "1",
         "0",
         "0"
        ],
        [
         "2",
         "0",
         "0"
        ],
        [
         "3",
         "0",
         "0"
        ],
        [
         "4",
         "0",
         "0"
        ],
        [
         "5",
         "0",
         "0"
        ],
        [
         "6",
         "0",
         "0"
        ],
        [
         "7",
         "0",
         "0"
        ],
        [
         "8",
         "1",
         "0"
        ],
        [
         "9",
         "0",
         "0"
        ],
        [
         "10",
         "0",
         "0"
        ],
        [
         "11",
         "0",
         "0"
        ],
        [
         "12",
         "0",
         "0"
        ],
        [
         "13",
         "1",
         "0"
        ],
        [
         "14",
         "0",
         "0"
        ],
        [
         "15",
         "0",
         "0"
        ],
        [
         "16",
         "0",
         "0"
        ],
        [
         "17",
         "1",
         "0"
        ],
        [
         "18",
         "0",
         "0"
        ],
        [
         "19",
         "1",
         "1"
        ],
        [
         "20",
         "0",
         "0"
        ],
        [
         "21",
         "0",
         "0"
        ],
        [
         "22",
         "0",
         "0"
        ],
        [
         "23",
         "0",
         "0"
        ],
        [
         "24",
         "0",
         "0"
        ],
        [
         "25",
         "1",
         "0"
        ],
        [
         "26",
         "0",
         "0"
        ],
        [
         "27",
         "0",
         "0"
        ],
        [
         "28",
         "1",
         "0"
        ],
        [
         "29",
         "1",
         "0"
        ],
        [
         "30",
         "0",
         "0"
        ],
        [
         "31",
         "0",
         "0"
        ],
        [
         "32",
         "0",
         "0"
        ],
        [
         "33",
         "0",
         "0"
        ],
        [
         "34",
         "0",
         "0"
        ],
        [
         "35",
         "0",
         "0"
        ],
        [
         "36",
         "0",
         "0"
        ],
        [
         "37",
         "0",
         "0"
        ],
        [
         "38",
         "0",
         "0"
        ],
        [
         "39",
         "0",
         "0"
        ],
        [
         "40",
         "1",
         "0"
        ],
        [
         "41",
         "1",
         "0"
        ],
        [
         "42",
         "0",
         "0"
        ],
        [
         "43",
         "1",
         "1"
        ],
        [
         "44",
         "0",
         "0"
        ],
        [
         "45",
         "0",
         "0"
        ],
        [
         "46",
         "1",
         "0"
        ],
        [
         "47",
         "0",
         "0"
        ],
        [
         "48",
         "0",
         "0"
        ],
        [
         "49",
         "1",
         "1"
        ]
       ],
       "shape": {
        "columns": 2,
        "rows": 2000
       }
      },
      "text/html": [
       "<div>\n",
       "<style scoped>\n",
       "    .dataframe tbody tr th:only-of-type {\n",
       "        vertical-align: middle;\n",
       "    }\n",
       "\n",
       "    .dataframe tbody tr th {\n",
       "        vertical-align: top;\n",
       "    }\n",
       "\n",
       "    .dataframe thead th {\n",
       "        text-align: right;\n",
       "    }\n",
       "</style>\n",
       "<table border=\"1\" class=\"dataframe\">\n",
       "  <thead>\n",
       "    <tr style=\"text-align: right;\">\n",
       "      <th></th>\n",
       "      <th>crack</th>\n",
       "      <th>inactive</th>\n",
       "    </tr>\n",
       "  </thead>\n",
       "  <tbody>\n",
       "    <tr>\n",
       "      <th>0</th>\n",
       "      <td>1</td>\n",
       "      <td>0</td>\n",
       "    </tr>\n",
       "    <tr>\n",
       "      <th>1</th>\n",
       "      <td>0</td>\n",
       "      <td>0</td>\n",
       "    </tr>\n",
       "    <tr>\n",
       "      <th>2</th>\n",
       "      <td>0</td>\n",
       "      <td>0</td>\n",
       "    </tr>\n",
       "    <tr>\n",
       "      <th>3</th>\n",
       "      <td>0</td>\n",
       "      <td>0</td>\n",
       "    </tr>\n",
       "    <tr>\n",
       "      <th>4</th>\n",
       "      <td>0</td>\n",
       "      <td>0</td>\n",
       "    </tr>\n",
       "    <tr>\n",
       "      <th>...</th>\n",
       "      <td>...</td>\n",
       "      <td>...</td>\n",
       "    </tr>\n",
       "    <tr>\n",
       "      <th>1995</th>\n",
       "      <td>1</td>\n",
       "      <td>1</td>\n",
       "    </tr>\n",
       "    <tr>\n",
       "      <th>1996</th>\n",
       "      <td>1</td>\n",
       "      <td>1</td>\n",
       "    </tr>\n",
       "    <tr>\n",
       "      <th>1997</th>\n",
       "      <td>0</td>\n",
       "      <td>0</td>\n",
       "    </tr>\n",
       "    <tr>\n",
       "      <th>1998</th>\n",
       "      <td>0</td>\n",
       "      <td>0</td>\n",
       "    </tr>\n",
       "    <tr>\n",
       "      <th>1999</th>\n",
       "      <td>0</td>\n",
       "      <td>0</td>\n",
       "    </tr>\n",
       "  </tbody>\n",
       "</table>\n",
       "<p>2000 rows × 2 columns</p>\n",
       "</div>"
      ],
      "text/plain": [
       "      crack  inactive\n",
       "0         1         0\n",
       "1         0         0\n",
       "2         0         0\n",
       "3         0         0\n",
       "4         0         0\n",
       "...     ...       ...\n",
       "1995      1         1\n",
       "1996      1         1\n",
       "1997      0         0\n",
       "1998      0         0\n",
       "1999      0         0\n",
       "\n",
       "[2000 rows x 2 columns]"
      ]
     },
     "execution_count": 3,
     "metadata": {},
     "output_type": "execute_result"
    }
   ],
   "source": [
    "df_labels"
   ]
  },
  {
   "cell_type": "code",
   "execution_count": 9,
   "id": "e8c6d157",
   "metadata": {},
   "outputs": [
    {
     "data": {
      "image/png": "[encoded data removed]",
      "text/plain": [
       "<Figure size 640x480 with 2 Axes>"
      ]
     },
     "metadata": {},
     "output_type": "display_data"
    },
    {
     "name": "stdout",
     "output_type": "stream",
     "text": [
      "Percentage of cracks in dataset:0.2215\n",
      "Percentage of inactive regions in dataset:0.061\n"
     ]
    }
   ],
   "source": [
    "df = pd.read_csv('data.csv',sep=\";\")\n",
    "df_labels = df[['crack','inactive']]\n",
    "\n",
    "\n",
    "axs = df_labels.hist()[0]\n",
    "\n",
    "for ax in axs:\n",
    "    ax.set_xticks([0,1])\n",
    "plt.show()\n",
    "\n",
    "crack_1= np.count_nonzero(df_labels['crack']==1)\n",
    "inactive_1 = np.count_nonzero(df_labels['inactive']==1)\n",
    "print(f\"Percentage of cracks in dataset:{crack_1/len(df_labels['crack'])}\")\n",
    "print(f\"Percentage of inactive regions in dataset:{inactive_1/len(df_labels['inactive'])}\")"
   ]
  },
  {
   "cell_type": "markdown",
   "id": "904a60f7",
   "metadata": {},
   "source": [
    "It is clear that our data is unbalanced, we need to do something about it: \n",
    "1) Weight our loss function\n",
    "2) Oversample class 1\n",
    "3) Undersample class 0\n",
    "\n"
   ]
  }
 ],
 "metadata": {
  "kernelspec": {
   "display_name": "venvASC",
   "language": "python",
   "name": "python3"
  },
  "language_info": {
   "codemirror_mode": {
    "name": "ipython",
    "version": 3
   },
   "file_extension": ".py",
   "mimetype": "text/x-python",
   "name": "python",
   "nbconvert_exporter": "python",
   "pygments_lexer": "ipython3",
   "version": "3.13.3"
  }
 },
 "nbformat": 4,
 "nbformat_minor": 5
}
